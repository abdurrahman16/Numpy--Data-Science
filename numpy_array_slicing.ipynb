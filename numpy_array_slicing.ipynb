{
  "nbformat": 4,
  "nbformat_minor": 0,
  "metadata": {
    "colab": {
      "provenance": [],
      "authorship_tag": "ABX9TyMMgYyhn+gtxi6OMyrLPkPq",
      "include_colab_link": true
    },
    "kernelspec": {
      "name": "python3",
      "display_name": "Python 3"
    },
    "language_info": {
      "name": "python"
    }
  },
  "cells": [
    {
      "cell_type": "markdown",
      "metadata": {
        "id": "view-in-github",
        "colab_type": "text"
      },
      "source": [
        "<a href=\"https://colab.research.google.com/github/abdurrahman16/Numpy--Data-Science/blob/main/numpy_array_slicing.ipynb\" target=\"_parent\"><img src=\"https://colab.research.google.com/assets/colab-badge.svg\" alt=\"Open In Colab\"/></a>"
      ]
    },
    {
      "cell_type": "code",
      "source": [
        "#rank 2 array slicing\n",
        "import numpy as np\n",
        "a= np.array([[1,2,3,4],[5,6,7,8],[9,10,11,12]])\n",
        "print(a,'\\n')\n",
        "\n",
        "#slicing\n",
        "b=a[:2,1:3]\n",
        "print(b,'\\n')\n",
        "\n",
        "#modify array\n",
        "print(b[0,0])\n",
        "b[0,0]=102\n",
        "print(b[0,0])\n",
        "print(b,'\\n')\n",
        "print(a,'\\n')\n",
        "\n"
      ],
      "metadata": {
        "colab": {
          "base_uri": "https://localhost:8080/"
        },
        "id": "aTjXvjufRWDX",
        "outputId": "57b0bcb9-7d02-49c9-8c17-5270bd58b1a8"
      },
      "execution_count": 24,
      "outputs": [
        {
          "output_type": "stream",
          "name": "stdout",
          "text": [
            "[[ 1  2  3  4]\n",
            " [ 5  6  7  8]\n",
            " [ 9 10 11 12]] \n",
            "\n",
            "[[2 3]\n",
            " [6 7]] \n",
            "\n",
            "2\n",
            "102\n",
            "[[102   3]\n",
            " [  6   7]] \n",
            "\n",
            "[[  1 102   3   4]\n",
            " [  5   6   7   8]\n",
            " [  9  10  11  12]] \n",
            "\n"
          ]
        }
      ]
    }
  ]
}