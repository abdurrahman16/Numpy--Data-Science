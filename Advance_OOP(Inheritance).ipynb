{
  "nbformat": 4,
  "nbformat_minor": 0,
  "metadata": {
    "colab": {
      "provenance": [],
      "authorship_tag": "ABX9TyMubFpod2erhDJQdLjgQ+Lg",
      "include_colab_link": true
    },
    "kernelspec": {
      "name": "python3",
      "display_name": "Python 3"
    },
    "language_info": {
      "name": "python"
    }
  },
  "cells": [
    {
      "cell_type": "markdown",
      "metadata": {
        "id": "view-in-github",
        "colab_type": "text"
      },
      "source": [
        "<a href=\"https://colab.research.google.com/github/abdurrahman16/Numpy--Data-Science/blob/main/Advance_OOP(Inheritance).ipynb\" target=\"_parent\"><img src=\"https://colab.research.google.com/assets/colab-badge.svg\" alt=\"Open In Colab\"/></a>"
      ]
    },
    {
      "cell_type": "code",
      "source": [
        "import numpy as np\n",
        "a= np.array([1,2,5])\n",
        "print(type(a))\n",
        "print(a.ndim)\n",
        "print(a.shape)\n",
        "print('='*40)\n",
        "\n",
        "\n",
        "#numpy matrix add and sub\n",
        "\n",
        "x= np.array([[2,4,6],[5,3,2]], )\n",
        "y= np.array([[8,6,4],[9,8,7]], )\n",
        "\n",
        "print(x+y)\n",
        "print(np.add(x,y))\n",
        "print(x-y)\n",
        "\n",
        "\n",
        "\n",
        "\n"
      ],
      "metadata": {
        "colab": {
          "base_uri": "https://localhost:8080/"
        },
        "id": "aTjXvjufRWDX",
        "outputId": "ee0123c7-4a5c-472e-ed85-07906568ffe0"
      },
      "execution_count": 7,
      "outputs": [
        {
          "output_type": "stream",
          "name": "stdout",
          "text": [
            "<class 'numpy.ndarray'>\n",
            "1\n",
            "(3,)\n",
            "========================================\n",
            "[[10 10 10]\n",
            " [14 11  9]]\n",
            "[[10 10 10]\n",
            " [14 11  9]]\n",
            "[[-6 -2  2]\n",
            " [-4 -5 -5]]\n"
          ]
        }
      ]
    }
  ]
}